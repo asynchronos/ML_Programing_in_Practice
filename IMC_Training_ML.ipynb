{
  "nbformat": 4,
  "nbformat_minor": 0,
  "metadata": {
    "colab": {
      "name": "IMC_Training_ML.ipynb",
      "provenance": [],
      "collapsed_sections": [],
      "authorship_tag": "ABX9TyOZTCy5jUcoP+VJk+0Xcndd",
      "include_colab_link": true
    },
    "kernelspec": {
      "name": "python3",
      "display_name": "Python 3"
    }
  },
  "cells": [
    {
      "cell_type": "markdown",
      "metadata": {
        "id": "view-in-github",
        "colab_type": "text"
      },
      "source": [
        "<a href=\"https://colab.research.google.com/github/asynchronos/ML_Programing_in_Practice/blob/main/IMC_Training_ML.ipynb\" target=\"_parent\"><img src=\"https://colab.research.google.com/assets/colab-badge.svg\" alt=\"Open In Colab\"/></a>"
      ]
    },
    {
      "cell_type": "markdown",
      "metadata": {
        "id": "YGM2SimtmcP9"
      },
      "source": [
        "**Lab I : Classification Model**"
      ]
    },
    {
      "cell_type": "code",
      "metadata": {
        "colab": {
          "base_uri": "https://localhost:8080/"
        },
        "id": "BqI5f0BlkpQg",
        "outputId": "b5449170-17c3-4b91-c0bb-5a0b57f1df20"
      },
      "source": [
        "import numpy as np # linear algebra\r\n",
        "import pandas as pd # data processing\r\n",
        "\r\n",
        "import matplotlib.pyplot as plt\r\n",
        "import seaborn as sns\r\n",
        "\r\n",
        "!gsutil cp gs://imcinstitute/data/flight.csv .\r\n",
        "flight = pd.read_csv(\"flight.csv\")\r\n"
      ],
      "execution_count": 1,
      "outputs": [
        {
          "output_type": "stream",
          "text": [
            "Copying gs://imcinstitute/data/flight.csv...\n",
            "/ [0 files][    0.0 B/  1.5 MiB]                                                \r/ [1 files][  1.5 MiB/  1.5 MiB]                                                \r\n",
            "Operation completed over 1 objects/1.5 MiB.                                      \n"
          ],
          "name": "stdout"
        }
      ]
    },
    {
      "cell_type": "code",
      "metadata": {
        "colab": {
          "base_uri": "https://localhost:8080/"
        },
        "id": "rkJ6_jdVnxmN",
        "outputId": "0c80ab5a-13a5-402d-9d96-c7ea8ba2cbc3"
      },
      "source": [
        "#Data Exploration\r\n",
        "flight.head(5)"
      ],
      "execution_count": 2,
      "outputs": [
        {
          "output_type": "execute_result",
          "data": {
            "text/plain": [
              "Index(['date', 'airline', 'departure_airport', 'arrival_airport',\n",
              "       'departure_delay', 'arrival_delay', 'dayofweek', 'month', 'delayed'],\n",
              "      dtype='object')"
            ]
          },
          "metadata": {
            "tags": []
          },
          "execution_count": 2
        }
      ]
    },
    {
      "cell_type": "code",
      "metadata": {
        "colab": {
          "base_uri": "https://localhost:8080/"
        },
        "id": "a1eOHM0in97E",
        "outputId": "f541d30e-5e1b-46e4-f82b-5e9cea1a1314"
      },
      "source": [
        "flight.shape"
      ],
      "execution_count": 3,
      "outputs": [
        {
          "output_type": "execute_result",
          "data": {
            "text/plain": [
              "(47785, 9)"
            ]
          },
          "metadata": {
            "tags": []
          },
          "execution_count": 3
        }
      ]
    },
    {
      "cell_type": "code",
      "metadata": {
        "colab": {
          "base_uri": "https://localhost:8080/"
        },
        "id": "9-zmRKH8oDnU",
        "outputId": "e2614555-f7c1-4fc7-c230-4aa5421489b3"
      },
      "source": [
        "flight.columns"
      ],
      "execution_count": 4,
      "outputs": [
        {
          "output_type": "execute_result",
          "data": {
            "text/plain": [
              "Index(['date', 'airline', 'departure_airport', 'arrival_airport',\n",
              "       'departure_delay', 'arrival_delay', 'dayofweek', 'month', 'delayed'],\n",
              "      dtype='object')"
            ]
          },
          "metadata": {
            "tags": []
          },
          "execution_count": 4
        }
      ]
    },
    {
      "cell_type": "code",
      "metadata": {
        "colab": {
          "base_uri": "https://localhost:8080/"
        },
        "id": "-oTcmtnioKO0",
        "outputId": "0aff34e3-6353-41ed-aab6-fbec59b492fc"
      },
      "source": [
        "flight.info(verbose=True)"
      ],
      "execution_count": 5,
      "outputs": [
        {
          "output_type": "stream",
          "text": [
            "<class 'pandas.core.frame.DataFrame'>\n",
            "RangeIndex: 47785 entries, 0 to 47784\n",
            "Data columns (total 9 columns):\n",
            " #   Column             Non-Null Count  Dtype \n",
            "---  ------             --------------  ----- \n",
            " 0   date               47785 non-null  object\n",
            " 1   airline            47785 non-null  object\n",
            " 2   departure_airport  47785 non-null  object\n",
            " 3   arrival_airport    47785 non-null  object\n",
            " 4   departure_delay    47785 non-null  int64 \n",
            " 5   arrival_delay      47785 non-null  int64 \n",
            " 6   dayofweek          47785 non-null  int64 \n",
            " 7   month              47785 non-null  int64 \n",
            " 8   delayed            47785 non-null  int64 \n",
            "dtypes: int64(5), object(4)\n",
            "memory usage: 3.3+ MB\n"
          ],
          "name": "stdout"
        }
      ]
    },
    {
      "cell_type": "code",
      "metadata": {
        "colab": {
          "base_uri": "https://localhost:8080/"
        },
        "id": "QRr3d1_ooSV8",
        "outputId": "039d693f-4360-4afe-9024-21482f700b31"
      },
      "source": [
        "flight.isnull().sum()"
      ],
      "execution_count": 6,
      "outputs": [
        {
          "output_type": "execute_result",
          "data": {
            "text/plain": [
              "date                 0\n",
              "airline              0\n",
              "departure_airport    0\n",
              "arrival_airport      0\n",
              "departure_delay      0\n",
              "arrival_delay        0\n",
              "dayofweek            0\n",
              "month                0\n",
              "delayed              0\n",
              "dtype: int64"
            ]
          },
          "metadata": {
            "tags": []
          },
          "execution_count": 6
        }
      ]
    },
    {
      "cell_type": "code",
      "metadata": {
        "colab": {
          "base_uri": "https://localhost:8080/"
        },
        "id": "1v4his-doaQk",
        "outputId": "792ceedd-c73e-4940-eda6-8c7b429122f7"
      },
      "source": [
        "flight['airline'].value_counts()"
      ],
      "execution_count": 12,
      "outputs": [
        {
          "output_type": "execute_result",
          "data": {
            "text/plain": [
              "OO    13863\n",
              "UA    12018\n",
              "WN     7814\n",
              "AA     4039\n",
              "CO     2383\n",
              "US     1680\n",
              "DL     1392\n",
              "AS     1322\n",
              "NW     1145\n",
              "B6      661\n",
              "F9      479\n",
              "MQ      441\n",
              "FL      410\n",
              "HA      132\n",
              "YV        6\n",
              "Name: airline, dtype: int64"
            ]
          },
          "metadata": {
            "tags": []
          },
          "execution_count": 12
        }
      ]
    },
    {
      "cell_type": "code",
      "metadata": {
        "colab": {
          "base_uri": "https://localhost:8080/"
        },
        "id": "2yxsp5ZEowNj",
        "outputId": "8a2cb2ff-0447-4179-a266-57b4713b9dc2"
      },
      "source": [
        "flight['departure_airport'].value_counts()"
      ],
      "execution_count": 13,
      "outputs": [
        {
          "output_type": "execute_result",
          "data": {
            "text/plain": [
              "SFO    47785\n",
              "Name: departure_airport, dtype: int64"
            ]
          },
          "metadata": {
            "tags": []
          },
          "execution_count": 13
        }
      ]
    },
    {
      "cell_type": "code",
      "metadata": {
        "colab": {
          "base_uri": "https://localhost:8080/"
        },
        "id": "mS3DlAOXoy3c",
        "outputId": "bc7742ab-eb35-4c2e-875f-b2df5f15f132"
      },
      "source": [
        "flight['arrival_airport'].value_counts()"
      ],
      "execution_count": 14,
      "outputs": [
        {
          "output_type": "execute_result",
          "data": {
            "text/plain": [
              "LAX    4240\n",
              "SAN    2513\n",
              "LAS    2388\n",
              "DEN    2185\n",
              "ORD    1975\n",
              "       ... \n",
              "MCI      34\n",
              "FLL      33\n",
              "ASE      28\n",
              "ANC      25\n",
              "BZN      15\n",
              "Name: arrival_airport, Length: 69, dtype: int64"
            ]
          },
          "metadata": {
            "tags": []
          },
          "execution_count": 14
        }
      ]
    },
    {
      "cell_type": "code",
      "metadata": {
        "colab": {
          "base_uri": "https://localhost:8080/",
          "height": 921
        },
        "id": "r1d23xUPo0ub",
        "outputId": "4ef9a775-bbf2-476a-c6ad-26bd394f7548"
      },
      "source": [
        "flight.hist(bins=100, figsize=(20,15))"
      ],
      "execution_count": 16,
      "outputs": [
        {
          "output_type": "execute_result",
          "data": {
            "text/plain": [
              "array([[<matplotlib.axes._subplots.AxesSubplot object at 0x7f68907a0780>,\n",
              "        <matplotlib.axes._subplots.AxesSubplot object at 0x7f68907d6c50>],\n",
              "       [<matplotlib.axes._subplots.AxesSubplot object at 0x7f689076beb8>,\n",
              "        <matplotlib.axes._subplots.AxesSubplot object at 0x7f689078d160>],\n",
              "       [<matplotlib.axes._subplots.AxesSubplot object at 0x7f68907410f0>,\n",
              "        <matplotlib.axes._subplots.AxesSubplot object at 0x7f68906f1470>]],\n",
              "      dtype=object)"
            ]
          },
          "metadata": {
            "tags": []
          },
          "execution_count": 16
        },
        {
          "output_type": "display_data",
          "data": {
            "image/png": "[encoded data removed]",
            "text/plain": [
              "<Figure size 1440x1080 with 6 Axes>"
            ]
          },
          "metadata": {
            "tags": [],
            "needs_background": "light"
          }
        }
      ]
    },
    {
      "cell_type": "code",
      "metadata": {
        "colab": {
          "base_uri": "https://localhost:8080/",
          "height": 386
        },
        "id": "VFxNgQQHpJPU",
        "outputId": "12f0115d-97d2-4ce5-c75c-f40a42731a7d"
      },
      "source": [
        "flight.describe()\r\n",
        "flight.describe(include=['int', 'int64', 'float', 'object'])"
      ],
      "execution_count": 20,
      "outputs": [
        {
          "output_type": "execute_result",
          "data": {
            "text/html": [
              "<div>\n",
              "<style scoped>\n",
              "    .dataframe tbody tr th:only-of-type {\n",
              "        vertical-align: middle;\n",
              "    }\n",
              "\n",
              "    .dataframe tbody tr th {\n",
              "        vertical-align: top;\n",
              "    }\n",
              "\n",
              "    .dataframe thead th {\n",
              "        text-align: right;\n",
              "    }\n",
              "</style>\n",
              "<table border=\"1\" class=\"dataframe\">\n",
              "  <thead>\n",
              "    <tr style=\"text-align: right;\">\n",
              "      <th></th>\n",
              "      <th>date</th>\n",
              "      <th>airline</th>\n",
              "      <th>departure_airport</th>\n",
              "      <th>arrival_airport</th>\n",
              "      <th>departure_delay</th>\n",
              "      <th>arrival_delay</th>\n",
              "      <th>dayofweek</th>\n",
              "      <th>month</th>\n",
              "      <th>delayed</th>\n",
              "    </tr>\n",
              "  </thead>\n",
              "  <tbody>\n",
              "    <tr>\n",
              "      <th>count</th>\n",
              "      <td>47785</td>\n",
              "      <td>47785</td>\n",
              "      <td>47785</td>\n",
              "      <td>47785</td>\n",
              "      <td>47785.000000</td>\n",
              "      <td>47785.000000</td>\n",
              "      <td>47785.000000</td>\n",
              "      <td>47785.000000</td>\n",
              "      <td>47785.000000</td>\n",
              "    </tr>\n",
              "    <tr>\n",
              "      <th>unique</th>\n",
              "      <td>365</td>\n",
              "      <td>15</td>\n",
              "      <td>1</td>\n",
              "      <td>69</td>\n",
              "      <td>NaN</td>\n",
              "      <td>NaN</td>\n",
              "      <td>NaN</td>\n",
              "      <td>NaN</td>\n",
              "      <td>NaN</td>\n",
              "    </tr>\n",
              "    <tr>\n",
              "      <th>top</th>\n",
              "      <td>2009-12-21</td>\n",
              "      <td>OO</td>\n",
              "      <td>SFO</td>\n",
              "      <td>LAX</td>\n",
              "      <td>NaN</td>\n",
              "      <td>NaN</td>\n",
              "      <td>NaN</td>\n",
              "      <td>NaN</td>\n",
              "      <td>NaN</td>\n",
              "    </tr>\n",
              "    <tr>\n",
              "      <th>freq</th>\n",
              "      <td>280</td>\n",
              "      <td>13863</td>\n",
              "      <td>47785</td>\n",
              "      <td>4240</td>\n",
              "      <td>NaN</td>\n",
              "      <td>NaN</td>\n",
              "      <td>NaN</td>\n",
              "      <td>NaN</td>\n",
              "      <td>NaN</td>\n",
              "    </tr>\n",
              "    <tr>\n",
              "      <th>mean</th>\n",
              "      <td>NaN</td>\n",
              "      <td>NaN</td>\n",
              "      <td>NaN</td>\n",
              "      <td>NaN</td>\n",
              "      <td>27.721147</td>\n",
              "      <td>22.218269</td>\n",
              "      <td>3.930438</td>\n",
              "      <td>6.624150</td>\n",
              "      <td>0.477158</td>\n",
              "    </tr>\n",
              "    <tr>\n",
              "      <th>std</th>\n",
              "      <td>NaN</td>\n",
              "      <td>NaN</td>\n",
              "      <td>NaN</td>\n",
              "      <td>NaN</td>\n",
              "      <td>29.436796</td>\n",
              "      <td>31.939881</td>\n",
              "      <td>1.995762</td>\n",
              "      <td>3.392922</td>\n",
              "      <td>0.499483</td>\n",
              "    </tr>\n",
              "    <tr>\n",
              "      <th>min</th>\n",
              "      <td>NaN</td>\n",
              "      <td>NaN</td>\n",
              "      <td>NaN</td>\n",
              "      <td>NaN</td>\n",
              "      <td>1.000000</td>\n",
              "      <td>-65.000000</td>\n",
              "      <td>1.000000</td>\n",
              "      <td>1.000000</td>\n",
              "      <td>0.000000</td>\n",
              "    </tr>\n",
              "    <tr>\n",
              "      <th>25%</th>\n",
              "      <td>NaN</td>\n",
              "      <td>NaN</td>\n",
              "      <td>NaN</td>\n",
              "      <td>NaN</td>\n",
              "      <td>5.000000</td>\n",
              "      <td>-1.000000</td>\n",
              "      <td>2.000000</td>\n",
              "      <td>4.000000</td>\n",
              "      <td>0.000000</td>\n",
              "    </tr>\n",
              "    <tr>\n",
              "      <th>50%</th>\n",
              "      <td>NaN</td>\n",
              "      <td>NaN</td>\n",
              "      <td>NaN</td>\n",
              "      <td>NaN</td>\n",
              "      <td>16.000000</td>\n",
              "      <td>13.000000</td>\n",
              "      <td>4.000000</td>\n",
              "      <td>7.000000</td>\n",
              "      <td>0.000000</td>\n",
              "    </tr>\n",
              "    <tr>\n",
              "      <th>75%</th>\n",
              "      <td>NaN</td>\n",
              "      <td>NaN</td>\n",
              "      <td>NaN</td>\n",
              "      <td>NaN</td>\n",
              "      <td>42.000000</td>\n",
              "      <td>38.000000</td>\n",
              "      <td>6.000000</td>\n",
              "      <td>10.000000</td>\n",
              "      <td>1.000000</td>\n",
              "    </tr>\n",
              "    <tr>\n",
              "      <th>max</th>\n",
              "      <td>NaN</td>\n",
              "      <td>NaN</td>\n",
              "      <td>NaN</td>\n",
              "      <td>NaN</td>\n",
              "      <td>120.000000</td>\n",
              "      <td>189.000000</td>\n",
              "      <td>7.000000</td>\n",
              "      <td>12.000000</td>\n",
              "      <td>1.000000</td>\n",
              "    </tr>\n",
              "  </tbody>\n",
              "</table>\n",
              "</div>"
            ],
            "text/plain": [
              "              date airline  ...         month       delayed\n",
              "count        47785   47785  ...  47785.000000  47785.000000\n",
              "unique         365      15  ...           NaN           NaN\n",
              "top     2009-12-21      OO  ...           NaN           NaN\n",
              "freq           280   13863  ...           NaN           NaN\n",
              "mean           NaN     NaN  ...      6.624150      0.477158\n",
              "std            NaN     NaN  ...      3.392922      0.499483\n",
              "min            NaN     NaN  ...      1.000000      0.000000\n",
              "25%            NaN     NaN  ...      4.000000      0.000000\n",
              "50%            NaN     NaN  ...      7.000000      0.000000\n",
              "75%            NaN     NaN  ...     10.000000      1.000000\n",
              "max            NaN     NaN  ...     12.000000      1.000000\n",
              "\n",
              "[11 rows x 9 columns]"
            ]
          },
          "metadata": {
            "tags": []
          },
          "execution_count": 20
        }
      ]
    },
    {
      "cell_type": "code",
      "metadata": {
        "id": "ho6oR7tTp_r3"
      },
      "source": [
        "#Data Cleansing\r\n",
        "flight.fillna(0,inplace=True)\r\n",
        "\r\n",
        "for col in ['dayofweek' , 'month']:\r\n",
        "   flight[col] = flight[col].astype('category')"
      ],
      "execution_count": 24,
      "outputs": []
    },
    {
      "cell_type": "code",
      "metadata": {
        "id": "uN5U_0GKqZKo"
      },
      "source": [
        "#drop unnecessary column\r\n",
        "flight.drop(['date','arrival_delay','departure_airport'], axis=1, inplace=True)"
      ],
      "execution_count": 25,
      "outputs": []
    },
    {
      "cell_type": "code",
      "metadata": {
        "colab": {
          "base_uri": "https://localhost:8080/"
        },
        "id": "uPcbfDDQqi_M",
        "outputId": "365783c2-3cf4-463e-f79b-12f284a1f7f4"
      },
      "source": [
        "flight.shape"
      ],
      "execution_count": 26,
      "outputs": [
        {
          "output_type": "execute_result",
          "data": {
            "text/plain": [
              "(47785, 6)"
            ]
          },
          "metadata": {
            "tags": []
          },
          "execution_count": 26
        }
      ]
    },
    {
      "cell_type": "code",
      "metadata": {
        "colab": {
          "base_uri": "https://localhost:8080/"
        },
        "id": "ZUkxKvDPqoKX",
        "outputId": "ffb5bfbe-71f6-4aff-fbc1-17fa16616984"
      },
      "source": [
        "flight.info()"
      ],
      "execution_count": 27,
      "outputs": [
        {
          "output_type": "stream",
          "text": [
            "<class 'pandas.core.frame.DataFrame'>\n",
            "RangeIndex: 47785 entries, 0 to 47784\n",
            "Data columns (total 6 columns):\n",
            " #   Column           Non-Null Count  Dtype   \n",
            "---  ------           --------------  -----   \n",
            " 0   airline          47785 non-null  object  \n",
            " 1   arrival_airport  47785 non-null  object  \n",
            " 2   departure_delay  47785 non-null  int64   \n",
            " 3   dayofweek        47785 non-null  category\n",
            " 4   month            47785 non-null  category\n",
            " 5   delayed          47785 non-null  int64   \n",
            "dtypes: category(2), int64(2), object(2)\n",
            "memory usage: 1.6+ MB\n"
          ],
          "name": "stdout"
        }
      ]
    },
    {
      "cell_type": "code",
      "metadata": {
        "colab": {
          "base_uri": "https://localhost:8080/"
        },
        "id": "Pfsh0HUOrAV-",
        "outputId": "24861928-bb9a-4bcf-8db3-57798749aabb"
      },
      "source": [
        "flight.describe"
      ],
      "execution_count": 31,
      "outputs": [
        {
          "output_type": "execute_result",
          "data": {
            "text/plain": [
              "<bound method NDFrame.describe of       airline arrival_airport  departure_delay dayofweek month  delayed\n",
              "0          WN             LAX                2         5     2        0\n",
              "1          WN             LAX               47         5     2        1\n",
              "2          WN             LAX               52         5     2        1\n",
              "3          WN             LAX               92         5     2        1\n",
              "4          WN             LAX               80         5     2        1\n",
              "...       ...             ...              ...       ...   ...      ...\n",
              "47780      CO             EWR               33         5     3        1\n",
              "47781      CO             EWR                9         6     3        1\n",
              "47782      CO             EWR                1         2     3        0\n",
              "47783      CO             EWR               52         5     4        1\n",
              "47784      CO             EWR                1         2     3        0\n",
              "\n",
              "[47785 rows x 6 columns]>"
            ]
          },
          "metadata": {
            "tags": []
          },
          "execution_count": 31
        }
      ]
    },
    {
      "cell_type": "code",
      "metadata": {
        "colab": {
          "base_uri": "https://localhost:8080/",
          "height": 386
        },
        "id": "6hx_po02reVM",
        "outputId": "5dc7a2c3-4db4-468b-8fd0-7e85eb0e355a"
      },
      "source": [
        "flight.describe(include=['int', 'int64', 'float', 'object'])"
      ],
      "execution_count": 32,
      "outputs": [
        {
          "output_type": "execute_result",
          "data": {
            "text/html": [
              "<div>\n",
              "<style scoped>\n",
              "    .dataframe tbody tr th:only-of-type {\n",
              "        vertical-align: middle;\n",
              "    }\n",
              "\n",
              "    .dataframe tbody tr th {\n",
              "        vertical-align: top;\n",
              "    }\n",
              "\n",
              "    .dataframe thead th {\n",
              "        text-align: right;\n",
              "    }\n",
              "</style>\n",
              "<table border=\"1\" class=\"dataframe\">\n",
              "  <thead>\n",
              "    <tr style=\"text-align: right;\">\n",
              "      <th></th>\n",
              "      <th>airline</th>\n",
              "      <th>arrival_airport</th>\n",
              "      <th>departure_delay</th>\n",
              "      <th>delayed</th>\n",
              "    </tr>\n",
              "  </thead>\n",
              "  <tbody>\n",
              "    <tr>\n",
              "      <th>count</th>\n",
              "      <td>47785</td>\n",
              "      <td>47785</td>\n",
              "      <td>47785.000000</td>\n",
              "      <td>47785.000000</td>\n",
              "    </tr>\n",
              "    <tr>\n",
              "      <th>unique</th>\n",
              "      <td>15</td>\n",
              "      <td>69</td>\n",
              "      <td>NaN</td>\n",
              "      <td>NaN</td>\n",
              "    </tr>\n",
              "    <tr>\n",
              "      <th>top</th>\n",
              "      <td>OO</td>\n",
              "      <td>LAX</td>\n",
              "      <td>NaN</td>\n",
              "      <td>NaN</td>\n",
              "    </tr>\n",
              "    <tr>\n",
              "      <th>freq</th>\n",
              "      <td>13863</td>\n",
              "      <td>4240</td>\n",
              "      <td>NaN</td>\n",
              "      <td>NaN</td>\n",
              "    </tr>\n",
              "    <tr>\n",
              "      <th>mean</th>\n",
              "      <td>NaN</td>\n",
              "      <td>NaN</td>\n",
              "      <td>27.721147</td>\n",
              "      <td>0.477158</td>\n",
              "    </tr>\n",
              "    <tr>\n",
              "      <th>std</th>\n",
              "      <td>NaN</td>\n",
              "      <td>NaN</td>\n",
              "      <td>29.436796</td>\n",
              "      <td>0.499483</td>\n",
              "    </tr>\n",
              "    <tr>\n",
              "      <th>min</th>\n",
              "      <td>NaN</td>\n",
              "      <td>NaN</td>\n",
              "      <td>1.000000</td>\n",
              "      <td>0.000000</td>\n",
              "    </tr>\n",
              "    <tr>\n",
              "      <th>25%</th>\n",
              "      <td>NaN</td>\n",
              "      <td>NaN</td>\n",
              "      <td>5.000000</td>\n",
              "      <td>0.000000</td>\n",
              "    </tr>\n",
              "    <tr>\n",
              "      <th>50%</th>\n",
              "      <td>NaN</td>\n",
              "      <td>NaN</td>\n",
              "      <td>16.000000</td>\n",
              "      <td>0.000000</td>\n",
              "    </tr>\n",
              "    <tr>\n",
              "      <th>75%</th>\n",
              "      <td>NaN</td>\n",
              "      <td>NaN</td>\n",
              "      <td>42.000000</td>\n",
              "      <td>1.000000</td>\n",
              "    </tr>\n",
              "    <tr>\n",
              "      <th>max</th>\n",
              "      <td>NaN</td>\n",
              "      <td>NaN</td>\n",
              "      <td>120.000000</td>\n",
              "      <td>1.000000</td>\n",
              "    </tr>\n",
              "  </tbody>\n",
              "</table>\n",
              "</div>"
            ],
            "text/plain": [
              "       airline arrival_airport  departure_delay       delayed\n",
              "count    47785           47785     47785.000000  47785.000000\n",
              "unique      15              69              NaN           NaN\n",
              "top         OO             LAX              NaN           NaN\n",
              "freq     13863            4240              NaN           NaN\n",
              "mean       NaN             NaN        27.721147      0.477158\n",
              "std        NaN             NaN        29.436796      0.499483\n",
              "min        NaN             NaN         1.000000      0.000000\n",
              "25%        NaN             NaN         5.000000      0.000000\n",
              "50%        NaN             NaN        16.000000      0.000000\n",
              "75%        NaN             NaN        42.000000      1.000000\n",
              "max        NaN             NaN       120.000000      1.000000"
            ]
          },
          "metadata": {
            "tags": []
          },
          "execution_count": 32
        }
      ]
    },
    {
      "cell_type": "code",
      "metadata": {
        "id": "YBo43W83rq40"
      },
      "source": [
        "#One-hot encoding\r\n",
        "flight = pd.get_dummies(flight)"
      ],
      "execution_count": 34,
      "outputs": []
    },
    {
      "cell_type": "code",
      "metadata": {
        "colab": {
          "base_uri": "https://localhost:8080/"
        },
        "id": "LRaQGvEuru3N",
        "outputId": "33daffda-f61b-4fa1-9e04-b70f3018c417"
      },
      "source": [
        "flight.shape"
      ],
      "execution_count": 36,
      "outputs": [
        {
          "output_type": "execute_result",
          "data": {
            "text/plain": [
              "(47785, 105)"
            ]
          },
          "metadata": {
            "tags": []
          },
          "execution_count": 36
        }
      ]
    },
    {
      "cell_type": "code",
      "metadata": {
        "colab": {
          "base_uri": "https://localhost:8080/"
        },
        "id": "5erD_7cGr1L8",
        "outputId": "1e96b270-d06c-4498-ac2d-6df5d4fb6325"
      },
      "source": [
        "flight.info(verbose=True)"
      ],
      "execution_count": 37,
      "outputs": [
        {
          "output_type": "stream",
          "text": [
            "<class 'pandas.core.frame.DataFrame'>\n",
            "RangeIndex: 47785 entries, 0 to 47784\n",
            "Data columns (total 105 columns):\n",
            " #   Column               Dtype\n",
            "---  ------               -----\n",
            " 0   departure_delay      int64\n",
            " 1   delayed              int64\n",
            " 2   airline_AA           uint8\n",
            " 3   airline_AS           uint8\n",
            " 4   airline_B6           uint8\n",
            " 5   airline_CO           uint8\n",
            " 6   airline_DL           uint8\n",
            " 7   airline_F9           uint8\n",
            " 8   airline_FL           uint8\n",
            " 9   airline_HA           uint8\n",
            " 10  airline_MQ           uint8\n",
            " 11  airline_NW           uint8\n",
            " 12  airline_OO           uint8\n",
            " 13  airline_UA           uint8\n",
            " 14  airline_US           uint8\n",
            " 15  airline_WN           uint8\n",
            " 16  airline_YV           uint8\n",
            " 17  arrival_airport_ABQ  uint8\n",
            " 18  arrival_airport_ACV  uint8\n",
            " 19  arrival_airport_ANC  uint8\n",
            " 20  arrival_airport_ASE  uint8\n",
            " 21  arrival_airport_ATL  uint8\n",
            " 22  arrival_airport_AUS  uint8\n",
            " 23  arrival_airport_BFL  uint8\n",
            " 24  arrival_airport_BOI  uint8\n",
            " 25  arrival_airport_BOS  uint8\n",
            " 26  arrival_airport_BUR  uint8\n",
            " 27  arrival_airport_BWI  uint8\n",
            " 28  arrival_airport_BZN  uint8\n",
            " 29  arrival_airport_CEC  uint8\n",
            " 30  arrival_airport_CIC  uint8\n",
            " 31  arrival_airport_CLE  uint8\n",
            " 32  arrival_airport_CLT  uint8\n",
            " 33  arrival_airport_COS  uint8\n",
            " 34  arrival_airport_CVG  uint8\n",
            " 35  arrival_airport_DEN  uint8\n",
            " 36  arrival_airport_DFW  uint8\n",
            " 37  arrival_airport_DTW  uint8\n",
            " 38  arrival_airport_EUG  uint8\n",
            " 39  arrival_airport_EWR  uint8\n",
            " 40  arrival_airport_FAT  uint8\n",
            " 41  arrival_airport_FLL  uint8\n",
            " 42  arrival_airport_GEG  uint8\n",
            " 43  arrival_airport_HNL  uint8\n",
            " 44  arrival_airport_IAD  uint8\n",
            " 45  arrival_airport_IAH  uint8\n",
            " 46  arrival_airport_JFK  uint8\n",
            " 47  arrival_airport_KOA  uint8\n",
            " 48  arrival_airport_LAS  uint8\n",
            " 49  arrival_airport_LAX  uint8\n",
            " 50  arrival_airport_LGB  uint8\n",
            " 51  arrival_airport_LIH  uint8\n",
            " 52  arrival_airport_LMT  uint8\n",
            " 53  arrival_airport_MCI  uint8\n",
            " 54  arrival_airport_MCO  uint8\n",
            " 55  arrival_airport_MDW  uint8\n",
            " 56  arrival_airport_MEM  uint8\n",
            " 57  arrival_airport_MFR  uint8\n",
            " 58  arrival_airport_MIA  uint8\n",
            " 59  arrival_airport_MKE  uint8\n",
            " 60  arrival_airport_MOD  uint8\n",
            " 61  arrival_airport_MRY  uint8\n",
            " 62  arrival_airport_MSP  uint8\n",
            " 63  arrival_airport_OGG  uint8\n",
            " 64  arrival_airport_ONT  uint8\n",
            " 65  arrival_airport_ORD  uint8\n",
            " 66  arrival_airport_OTH  uint8\n",
            " 67  arrival_airport_PDX  uint8\n",
            " 68  arrival_airport_PHL  uint8\n",
            " 69  arrival_airport_PHX  uint8\n",
            " 70  arrival_airport_PIT  uint8\n",
            " 71  arrival_airport_PSC  uint8\n",
            " 72  arrival_airport_PSP  uint8\n",
            " 73  arrival_airport_RDD  uint8\n",
            " 74  arrival_airport_RDM  uint8\n",
            " 75  arrival_airport_RNO  uint8\n",
            " 76  arrival_airport_SAN  uint8\n",
            " 77  arrival_airport_SAT  uint8\n",
            " 78  arrival_airport_SBA  uint8\n",
            " 79  arrival_airport_SBP  uint8\n",
            " 80  arrival_airport_SEA  uint8\n",
            " 81  arrival_airport_SLC  uint8\n",
            " 82  arrival_airport_SMF  uint8\n",
            " 83  arrival_airport_SNA  uint8\n",
            " 84  arrival_airport_STL  uint8\n",
            " 85  arrival_airport_TUS  uint8\n",
            " 86  dayofweek_1          uint8\n",
            " 87  dayofweek_2          uint8\n",
            " 88  dayofweek_3          uint8\n",
            " 89  dayofweek_4          uint8\n",
            " 90  dayofweek_5          uint8\n",
            " 91  dayofweek_6          uint8\n",
            " 92  dayofweek_7          uint8\n",
            " 93  month_1              uint8\n",
            " 94  month_2              uint8\n",
            " 95  month_3              uint8\n",
            " 96  month_4              uint8\n",
            " 97  month_5              uint8\n",
            " 98  month_6              uint8\n",
            " 99  month_7              uint8\n",
            " 100 month_8              uint8\n",
            " 101 month_9              uint8\n",
            " 102 month_10             uint8\n",
            " 103 month_11             uint8\n",
            " 104 month_12             uint8\n",
            "dtypes: int64(2), uint8(103)\n",
            "memory usage: 5.4 MB\n"
          ],
          "name": "stdout"
        }
      ]
    },
    {
      "cell_type": "code",
      "metadata": {
        "colab": {
          "base_uri": "https://localhost:8080/"
        },
        "id": "vFBYKuA0sDBl",
        "outputId": "fe0e0dab-9eab-4fc2-bdc8-c57f71e12296"
      },
      "source": [
        "#Create Train and Evaluate dataset\r\n",
        "X = flight.drop('delayed',axis=1)\r\n",
        "y = flight['delayed']\r\n",
        "\r\n",
        "\r\n",
        "from sklearn.model_selection import train_test_split\r\n",
        "# Split dataset into training set and test set\r\n",
        "X_train, X_test, y_train, y_test = train_test_split(X, y, test_size=0.2, random_state=1) # 80% training and 20% test\r\n",
        "\r\n",
        "print(\"Training features/target:\", X_train.shape, y_train.shape)\r\n",
        "print(\"Testing features/target:\", X_test.shape, y_test.shape)\r\n"
      ],
      "execution_count": 38,
      "outputs": [
        {
          "output_type": "stream",
          "text": [
            "Training features/target: (38228, 104) (38228,)\n",
            "Testing features/target: (9557, 104) (9557,)\n"
          ],
          "name": "stdout"
        }
      ]
    },
    {
      "cell_type": "code",
      "metadata": {
        "colab": {
          "base_uri": "https://localhost:8080/"
        },
        "id": "kQ4bvgdnspL1",
        "outputId": "492e92ea-8a61-4972-bddb-09aa3fddd3f7"
      },
      "source": [
        "#import Scikit-learn\r\n",
        "import numpy as np\r\n",
        "import pandas as pd\r\n",
        "from sklearn.tree import DecisionTreeClassifier, export_graphviz\r\n",
        "from sklearn import tree\r\n",
        "from sklearn.datasets import load_wine\r\n",
        "from sklearn.model_selection import train_test_split\r\n",
        "from sklearn import metrics\r\n",
        "\r\n",
        "# Create Decision Tree classifier object\r\n",
        "decision_tree_classifier = DecisionTreeClassifier(criterion=\"entropy\", max_depth=None)\r\n",
        "\r\n",
        "# Train Decision Tree Classifier\r\n",
        "decision_tree_classifier.fit(X_train,y_train)"
      ],
      "execution_count": 39,
      "outputs": [
        {
          "output_type": "execute_result",
          "data": {
            "text/plain": [
              "DecisionTreeClassifier(ccp_alpha=0.0, class_weight=None, criterion='entropy',\n",
              "                       max_depth=None, max_features=None, max_leaf_nodes=None,\n",
              "                       min_impurity_decrease=0.0, min_impurity_split=None,\n",
              "                       min_samples_leaf=1, min_samples_split=2,\n",
              "                       min_weight_fraction_leaf=0.0, presort='deprecated',\n",
              "                       random_state=None, splitter='best')"
            ]
          },
          "metadata": {
            "tags": []
          },
          "execution_count": 39
        }
      ]
    },
    {
      "cell_type": "code",
      "metadata": {
        "colab": {
          "base_uri": "https://localhost:8080/"
        },
        "id": "ROxyfmJEtHCn",
        "outputId": "8385dec3-ac00-4551-8735-d453f94f54cb"
      },
      "source": [
        "#Make prediction\r\n",
        "y_pred = decision_tree_classifier.predict(X_test)\r\n",
        "y_pred[0:5]\r\n"
      ],
      "execution_count": 45,
      "outputs": [
        {
          "output_type": "execute_result",
          "data": {
            "text/plain": [
              "array([0, 0, 1, 1, 0])"
            ]
          },
          "metadata": {
            "tags": []
          },
          "execution_count": 45
        }
      ]
    },
    {
      "cell_type": "code",
      "metadata": {
        "colab": {
          "base_uri": "https://localhost:8080/"
        },
        "id": "TeNfp281tgP5",
        "outputId": "b705afaf-77be-43fd-b70f-a3f2d0a88b54"
      },
      "source": [
        "#predict probabilities\r\n",
        "y_pred_prob = decision_tree_classifier.predict_proba(X_test)\r\n",
        "y_pred_prob[0:5]"
      ],
      "execution_count": 46,
      "outputs": [
        {
          "output_type": "execute_result",
          "data": {
            "text/plain": [
              "array([[1., 0.],\n",
              "       [1., 0.],\n",
              "       [0., 1.],\n",
              "       [0., 1.],\n",
              "       [1., 0.]])"
            ]
          },
          "metadata": {
            "tags": []
          },
          "execution_count": 46
        }
      ]
    },
    {
      "cell_type": "code",
      "metadata": {
        "colab": {
          "base_uri": "https://localhost:8080/"
        },
        "id": "CYKWl9awtxns",
        "outputId": "d7cc5662-6f91-4deb-a790-f338e62d0971"
      },
      "source": [
        "from sklearn.metrics import confusion_matrix\r\n",
        "cm = confusion_matrix(y_test, y_pred)\r\n",
        "print(\"Confusion Matrix (predict/actual):\\n\", pd.DataFrame(cm))\r\n"
      ],
      "execution_count": 47,
      "outputs": [
        {
          "output_type": "stream",
          "text": [
            "Confusion Matrix (predict/actual):\n",
            "       0     1\n",
            "0  4275   769\n",
            "1   822  3691\n"
          ],
          "name": "stdout"
        }
      ]
    },
    {
      "cell_type": "code",
      "metadata": {
        "colab": {
          "base_uri": "https://localhost:8080/"
        },
        "id": "yKdXswBIt2yy",
        "outputId": "a0a778ac-36d1-44c3-a0f9-b7e2e5707ee1"
      },
      "source": [
        "decision_tree_classifier.score(X_test, y_test)\r\n"
      ],
      "execution_count": 48,
      "outputs": [
        {
          "output_type": "execute_result",
          "data": {
            "text/plain": [
              "0.8335251648006696"
            ]
          },
          "metadata": {
            "tags": []
          },
          "execution_count": 48
        }
      ]
    },
    {
      "cell_type": "code",
      "metadata": {
        "colab": {
          "base_uri": "https://localhost:8080/"
        },
        "id": "8x_QdpcRt5s2",
        "outputId": "72bda162-682b-4109-b025-a715627886a8"
      },
      "source": [
        "recall = np.diag(cm) / np.sum(cm, axis=1)\r\n",
        "print(\"\\nRecall:\\n\", pd.Series(recall))\r\n",
        "\r\n",
        "precision = np.diag(cm) / np.sum(cm, axis=0)\r\n",
        "print(\"\\nPrecision:\\n\", pd.Series(precision))\r\n",
        "\r\n",
        "\r\n",
        "from sklearn.metrics import f1_score\r\n",
        "weighted_f1 = f1_score(y_test, y_pred, average=\"weighted\")\r\n",
        "print(\"\\nF1 score:\\n\", weighted_f1)\r\n"
      ],
      "execution_count": 49,
      "outputs": [
        {
          "output_type": "stream",
          "text": [
            "\n",
            "Recall:\n",
            " 0    0.847542\n",
            "1    0.817860\n",
            "dtype: float64\n",
            "\n",
            "Precision:\n",
            " 0    0.838729\n",
            "1    0.827578\n",
            "dtype: float64\n",
            "\n",
            "F1 score:\n",
            " 0.8334685384127342\n"
          ],
          "name": "stdout"
        }
      ]
    }
  ]
}